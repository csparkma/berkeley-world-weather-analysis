{
 "cells": [
  {
   "cell_type": "code",
   "execution_count": 31,
   "metadata": {},
   "outputs": [],
   "source": [
    "# Import the dependencies.\n",
    "import pandas as pd\n",
    "import numpy as np\n",
    "import gmaps\n",
    "import requests\n",
    "\n",
    "# Import the API key.\n",
    "from config import g_key"
   ]
  },
  {
   "cell_type": "code",
   "execution_count": 32,
   "metadata": {},
   "outputs": [
    {
     "data": {
      "text/html": [
       "<div>\n",
       "<style scoped>\n",
       "    .dataframe tbody tr th:only-of-type {\n",
       "        vertical-align: middle;\n",
       "    }\n",
       "\n",
       "    .dataframe tbody tr th {\n",
       "        vertical-align: top;\n",
       "    }\n",
       "\n",
       "    .dataframe thead th {\n",
       "        text-align: right;\n",
       "    }\n",
       "</style>\n",
       "<table border=\"1\" class=\"dataframe\">\n",
       "  <thead>\n",
       "    <tr style=\"text-align: right;\">\n",
       "      <th></th>\n",
       "      <th>City_ID</th>\n",
       "      <th>City</th>\n",
       "      <th>Country</th>\n",
       "      <th>Max Temp</th>\n",
       "      <th>Current Description</th>\n",
       "      <th>Lat</th>\n",
       "      <th>Lng</th>\n",
       "      <th>Hotel Name</th>\n",
       "    </tr>\n",
       "  </thead>\n",
       "  <tbody>\n",
       "    <tr>\n",
       "      <th>0</th>\n",
       "      <td>4</td>\n",
       "      <td>Rikitea</td>\n",
       "      <td>PF</td>\n",
       "      <td>70.99</td>\n",
       "      <td>overcast clouds</td>\n",
       "      <td>-23.12</td>\n",
       "      <td>-134.97</td>\n",
       "      <td>Pension Maro'i</td>\n",
       "    </tr>\n",
       "    <tr>\n",
       "      <th>1</th>\n",
       "      <td>7</td>\n",
       "      <td>Avarua</td>\n",
       "      <td>CK</td>\n",
       "      <td>73.40</td>\n",
       "      <td>overcast clouds</td>\n",
       "      <td>-21.21</td>\n",
       "      <td>-159.78</td>\n",
       "      <td>Paradise Inn</td>\n",
       "    </tr>\n",
       "    <tr>\n",
       "      <th>2</th>\n",
       "      <td>9</td>\n",
       "      <td>Castro</td>\n",
       "      <td>BR</td>\n",
       "      <td>66.78</td>\n",
       "      <td>clear sky</td>\n",
       "      <td>-24.79</td>\n",
       "      <td>-50.01</td>\n",
       "      <td>CHACARA BAILLY</td>\n",
       "    </tr>\n",
       "    <tr>\n",
       "      <th>3</th>\n",
       "      <td>13</td>\n",
       "      <td>Constanza</td>\n",
       "      <td>DE</td>\n",
       "      <td>66.99</td>\n",
       "      <td>clear sky</td>\n",
       "      <td>47.66</td>\n",
       "      <td>9.18</td>\n",
       "      <td>Hotel Gästehaus Centro</td>\n",
       "    </tr>\n",
       "    <tr>\n",
       "      <th>4</th>\n",
       "      <td>14</td>\n",
       "      <td>Jalu</td>\n",
       "      <td>LY</td>\n",
       "      <td>78.89</td>\n",
       "      <td>clear sky</td>\n",
       "      <td>29.03</td>\n",
       "      <td>21.55</td>\n",
       "      <td>Jalu Hotel</td>\n",
       "    </tr>\n",
       "  </tbody>\n",
       "</table>\n",
       "</div>"
      ],
      "text/plain": [
       "   City_ID       City Country  Max Temp Current Description    Lat     Lng  \\\n",
       "0        4    Rikitea      PF     70.99     overcast clouds -23.12 -134.97   \n",
       "1        7     Avarua      CK     73.40     overcast clouds -21.21 -159.78   \n",
       "2        9     Castro      BR     66.78           clear sky -24.79  -50.01   \n",
       "3       13  Constanza      DE     66.99           clear sky  47.66    9.18   \n",
       "4       14       Jalu      LY     78.89           clear sky  29.03   21.55   \n",
       "\n",
       "               Hotel Name  \n",
       "0          Pension Maro'i  \n",
       "1            Paradise Inn  \n",
       "2          CHACARA BAILLY  \n",
       "3  Hotel Gästehaus Centro  \n",
       "4              Jalu Hotel  "
      ]
     },
     "execution_count": 32,
     "metadata": {},
     "output_type": "execute_result"
    }
   ],
   "source": [
    "# Store the CSV you saved created in part one into a DataFrame.\n",
    "city_data_df = pd.read_csv(\"WeatherPy_vacation.csv\")\n",
    "city_data_df.head()"
   ]
  },
  {
   "cell_type": "markdown",
   "metadata": {},
   "source": [
    "### Select 4 Cities\n",
    "###### Could refine to ask for \"Start\" city and refine options for user to choose that are within a \"reasonable\" distance to drive, which could also be based on user input."
   ]
  },
  {
   "cell_type": "code",
   "execution_count": 33,
   "metadata": {},
   "outputs": [],
   "source": [
    "city_1 = city_data_df.loc[city_data_df['City'] == 'Lompoc']\n",
    "city_2 = city_data_df.loc[city_data_df['City'] == 'Isla Vista']\n",
    "city_3 = city_data_df.loc[city_data_df['City'] == 'Rosarito']\n",
    "city_4 = city_data_df.loc[city_data_df['City'] == 'San Quintin']"
   ]
  },
  {
   "cell_type": "code",
   "execution_count": 35,
   "metadata": {},
   "outputs": [],
   "source": [
    "city_1_location = tuple(city_1[['Lat', 'Lng']].to_numpy()[0])\n",
    "city_2_location = tuple(city_2[['Lat', 'Lng']].to_numpy()[0])\n",
    "city_3_location = tuple(city_3[['Lat', 'Lng']].to_numpy()[0])\n",
    "city_4_location = tuple(city_4[['Lat', 'Lng']].to_numpy()[0])"
   ]
  },
  {
   "cell_type": "markdown",
   "metadata": {},
   "source": [
    "## Map directions"
   ]
  },
  {
   "cell_type": "code",
   "execution_count": 36,
   "metadata": {},
   "outputs": [],
   "source": [
    "# Configure gmaps to use your Google API key.\n",
    "gmaps.configure(api_key=g_key)"
   ]
  },
  {
   "cell_type": "code",
   "execution_count": 37,
   "metadata": {
    "scrolled": true
   },
   "outputs": [
    {
     "data": {
      "application/vnd.jupyter.widget-view+json": {
       "model_id": "969d5af2831641a78a9aefaa1a7dd096",
       "version_major": 2,
       "version_minor": 0
      },
      "text/plain": [
       "Figure(layout=FigureLayout(height='420px'))"
      ]
     },
     "metadata": {},
     "output_type": "display_data"
    }
   ],
   "source": [
    "fig = gmaps.figure()\n",
    "city_directions = gmaps.directions_layer(\n",
    "        city_1_location, city_4_location, waypoints=[city_2_location, city_3_location],\n",
    "        travel_mode='DRIVING')\n",
    "fig.add_layer(city_directions)\n",
    "fig"
   ]
  },
  {
   "cell_type": "markdown",
   "metadata": {},
   "source": [
    "## Create a Market Layer Map"
   ]
  },
  {
   "cell_type": "code",
   "execution_count": 41,
   "metadata": {},
   "outputs": [
    {
     "data": {
      "text/html": [
       "<div>\n",
       "<style scoped>\n",
       "    .dataframe tbody tr th:only-of-type {\n",
       "        vertical-align: middle;\n",
       "    }\n",
       "\n",
       "    .dataframe tbody tr th {\n",
       "        vertical-align: top;\n",
       "    }\n",
       "\n",
       "    .dataframe thead th {\n",
       "        text-align: right;\n",
       "    }\n",
       "</style>\n",
       "<table border=\"1\" class=\"dataframe\">\n",
       "  <thead>\n",
       "    <tr style=\"text-align: right;\">\n",
       "      <th></th>\n",
       "      <th>City_ID</th>\n",
       "      <th>City</th>\n",
       "      <th>Country</th>\n",
       "      <th>Max Temp</th>\n",
       "      <th>Current Description</th>\n",
       "      <th>Lat</th>\n",
       "      <th>Lng</th>\n",
       "      <th>Hotel Name</th>\n",
       "    </tr>\n",
       "  </thead>\n",
       "  <tbody>\n",
       "    <tr>\n",
       "      <th>64</th>\n",
       "      <td>257</td>\n",
       "      <td>Lompoc</td>\n",
       "      <td>US</td>\n",
       "      <td>69.8</td>\n",
       "      <td>clear sky</td>\n",
       "      <td>34.64</td>\n",
       "      <td>-120.46</td>\n",
       "      <td>Holiday Inn Express Lompoc</td>\n",
       "    </tr>\n",
       "    <tr>\n",
       "      <th>46</th>\n",
       "      <td>177</td>\n",
       "      <td>Isla Vista</td>\n",
       "      <td>US</td>\n",
       "      <td>77.0</td>\n",
       "      <td>overcast clouds</td>\n",
       "      <td>34.41</td>\n",
       "      <td>-119.86</td>\n",
       "      <td>Super 8 by Wyndham Santa Barbara/Goleta</td>\n",
       "    </tr>\n",
       "    <tr>\n",
       "      <th>72</th>\n",
       "      <td>287</td>\n",
       "      <td>Rosarito</td>\n",
       "      <td>MX</td>\n",
       "      <td>73.0</td>\n",
       "      <td>broken clouds</td>\n",
       "      <td>32.33</td>\n",
       "      <td>-117.03</td>\n",
       "      <td>Hotel Festival Plaza Rosarito</td>\n",
       "    </tr>\n",
       "    <tr>\n",
       "      <th>118</th>\n",
       "      <td>419</td>\n",
       "      <td>San Quintin</td>\n",
       "      <td>MX</td>\n",
       "      <td>70.2</td>\n",
       "      <td>clear sky</td>\n",
       "      <td>30.48</td>\n",
       "      <td>-115.95</td>\n",
       "      <td>Old Mill Hotel</td>\n",
       "    </tr>\n",
       "  </tbody>\n",
       "</table>\n",
       "</div>"
      ],
      "text/plain": [
       "     City_ID         City Country  Max Temp Current Description    Lat  \\\n",
       "64       257       Lompoc      US      69.8           clear sky  34.64   \n",
       "46       177   Isla Vista      US      77.0     overcast clouds  34.41   \n",
       "72       287     Rosarito      MX      73.0       broken clouds  32.33   \n",
       "118      419  San Quintin      MX      70.2           clear sky  30.48   \n",
       "\n",
       "        Lng                               Hotel Name  \n",
       "64  -120.46               Holiday Inn Express Lompoc  \n",
       "46  -119.86  Super 8 by Wyndham Santa Barbara/Goleta  \n",
       "72  -117.03            Hotel Festival Plaza Rosarito  \n",
       "118 -115.95                           Old Mill Hotel  "
      ]
     },
     "execution_count": 41,
     "metadata": {},
     "output_type": "execute_result"
    }
   ],
   "source": [
    "destination_cities_df = pd.concat([city_1, city_2, city_3, city_4])\n",
    "destination_cities_df.head(5)"
   ]
  },
  {
   "cell_type": "code",
   "execution_count": 49,
   "metadata": {},
   "outputs": [],
   "source": [
    "info_box_template = \"\"\"\n",
    "<dl>\n",
    "<dt>Hotel Name</dt><dd>{Hotel Name}</dd>\n",
    "<dt>City</dt><dd>{City}</dd>\n",
    "<dt>Country</dt><dd>{Country}</dd>\n",
    "<dt>Weather Description</dt><dd>{Current Description} °F</dd>\n",
    "</dl>\n",
    "\"\"\"\n",
    "# Store the DataFrame Row.\n",
    "destination_cities_info = [info_box_template.format(**row) for index, row in destination_cities_df.iterrows()]"
   ]
  },
  {
   "cell_type": "code",
   "execution_count": 50,
   "metadata": {},
   "outputs": [
    {
     "data": {
      "application/vnd.jupyter.widget-view+json": {
       "model_id": "e9898d262282458696588a7eb0865db7",
       "version_major": 2,
       "version_minor": 0
      },
      "text/plain": [
       "Figure(layout=FigureLayout(height='420px'))"
      ]
     },
     "metadata": {},
     "output_type": "display_data"
    }
   ],
   "source": [
    "# Add a heatmap of temperature for the vacation spots and a pop-up marker for each city.\n",
    "locations = destination_cities_df[[\"Lat\", \"Lng\"]]\n",
    "fig = gmaps.figure(center=(30.0, 31.0), zoom_level=1.5)\n",
    "\n",
    "# Set map layer name\n",
    "marker_layer = gmaps.marker_layer(\n",
    "    locations\n",
    "    , info_box_content=destination_cities_info\n",
    ")\n",
    "fig.add_layer(marker_layer)\n",
    "\n",
    "# Call the figure to plot the data.\n",
    "fig"
   ]
  },
  {
   "cell_type": "code",
   "execution_count": null,
   "metadata": {},
   "outputs": [],
   "source": []
  }
 ],
 "metadata": {
  "kernelspec": {
   "display_name": "PythonData",
   "language": "python",
   "name": "pythondata"
  },
  "language_info": {
   "codemirror_mode": {
    "name": "ipython",
    "version": 3
   },
   "file_extension": ".py",
   "mimetype": "text/x-python",
   "name": "python",
   "nbconvert_exporter": "python",
   "pygments_lexer": "ipython3",
   "version": "3.7.7"
  }
 },
 "nbformat": 4,
 "nbformat_minor": 4
}
